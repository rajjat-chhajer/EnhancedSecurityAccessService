{
 "cells": [
  {
   "cell_type": "markdown",
   "id": "fcbfdfce",
   "metadata": {},
   "source": [
    "Experiment 1 : Known seed attack"
   ]
  },
  {
   "cell_type": "code",
   "execution_count": null,
   "id": "11aca3b9",
   "metadata": {},
   "outputs": [],
   "source": [
    "import pandas as pd\n",
    "from Crypto.Random import get_random_bytes\n",
    "Replayed = pd.DataFrame([])\n",
    "for _ in range(0,100):    \n",
    "    a = get_random_bytes(3).hex()\n",
    "    b = get_random_bytes(3).hex()\n",
    "    count = 0\n",
    "#     print(count)\n",
    "    while a != b:\n",
    "        b = get_random_bytes(3).hex()\n",
    "        count = count +1;\n",
    "    \n",
    "    Replayed = Replayed.append([count])\n",
    "print('maximum number of iteration ',Replayed.max())\n",
    "print('minimum number of iteration',Replayed.min()) \n",
    "print('Average number of iteration', Replayed.mean())"
   ]
  },
  {
   "cell_type": "code",
   "execution_count": null,
   "id": "c83cc4f5",
   "metadata": {},
   "outputs": [],
   "source": [
    "\n",
    "Replayed = pd.DataFrame([])\n",
    "for _ in range(0,100):    \n",
    "    a = get_random_bytes(3).hex()\n",
    "    b = get_random_bytes(3).hex()\n",
    "    count = 0\n",
    "#     print(count)\n",
    "    while a != b:\n",
    "        b = get_random_bytes(3).hex()\n",
    "        count = count +1;\n",
    "    \n",
    "    Replayed = Replayed.append([count])\n",
    "print('maximum number of iteration ',Replayed.max())\n",
    "print('minimum number of iteration',Replayed.min()) \n",
    "print('Average number of iteration', Replayed.mean())"
   ]
  },
  {
   "cell_type": "code",
   "execution_count": null,
   "id": "a0722022",
   "metadata": {},
   "outputs": [],
   "source": [
    "import pandas as pd\n",
    "Replayed = pd.DataFrame([])\n",
    "for _ in range(0,10):    \n",
    "    a = get_random_bytes(4).hex()\n",
    "    b = get_random_bytes(4).hex()\n",
    "    count = 0\n",
    "#     print(count)\n",
    "    while a != b:\n",
    "        b = get_random_bytes(4).hex()\n",
    "        count = count +1;\n",
    "    \n",
    "    Replayed = Replayed.append([count])\n",
    "print('maximum number of iteration ',Replayed.max())\n",
    "print('minimum number of iteration',Replayed.min()) \n",
    "print('Average number of iteration', Replayed.mean())"
   ]
  },
  {
   "cell_type": "raw",
   "id": "1776e0af",
   "metadata": {},
   "source": [
    "Experiment 2 : Dictionary Attack"
   ]
  },
  {
   "cell_type": "code",
   "execution_count": null,
   "id": "8d630cbc",
   "metadata": {},
   "outputs": [],
   "source": [
    "Replayed = pd.DataFrame([])\n",
    "for _ in range(0,100):\n",
    "    d = {}\n",
    "    a = get_random_bytes(2).hex()\n",
    "    b = get_random_bytes(2).hex()\n",
    "    d[a] = 1\n",
    "    d[b] = 1\n",
    "    count = 0\n",
    "    print(count)\n",
    "    while a != b:\n",
    "        b = get_random_bytes(2).hex()\n",
    "        if b in d:\n",
    "            break\n",
    "        else: d[b] = 1\n",
    "        count = count +1;\n",
    "    \n",
    "    Replayed = Replayed.append([count])\n",
    "print('maximum number of iteration ',Replayed.max())\n",
    "print('minimum number of iteration',Replayed.min()) \n",
    "print('Average number of iteration', Replayed.mean())"
   ]
  },
  {
   "cell_type": "code",
   "execution_count": null,
   "id": "500cdc16",
   "metadata": {},
   "outputs": [],
   "source": [
    "Replayed = pd.DataFrame([])\n",
    "for _ in range(0,100):\n",
    "    d = {}\n",
    "    a = get_random_bytes(4).hex()\n",
    "    b = get_random_bytes(4).hex()\n",
    "    d[a] = 1\n",
    "    d[b] = 1\n",
    "    count = 0\n",
    "    print(count)\n",
    "    while a != b:\n",
    "        b = get_random_bytes(4).hex()\n",
    "        if b in d:\n",
    "            break\n",
    "        else: d[b] = 1\n",
    "        count = count +1;\n",
    "    \n",
    "    Replayed = Replayed.append([count])\n",
    "print('maximum number of iteration ',Replayed.max())\n",
    "print('minimum number of iteration',Replayed.min()) \n",
    "print('Average number of iteration', Replayed.mean())"
   ]
  }
 ],
 "metadata": {
  "kernelspec": {
   "display_name": "Python 3 (ipykernel)",
   "language": "python",
   "name": "python3"
  },
  "language_info": {
   "codemirror_mode": {
    "name": "ipython",
    "version": 3
   },
   "file_extension": ".py",
   "mimetype": "text/x-python",
   "name": "python",
   "nbconvert_exporter": "python",
   "pygments_lexer": "ipython3",
   "version": "3.9.7"
  }
 },
 "nbformat": 4,
 "nbformat_minor": 5
}
